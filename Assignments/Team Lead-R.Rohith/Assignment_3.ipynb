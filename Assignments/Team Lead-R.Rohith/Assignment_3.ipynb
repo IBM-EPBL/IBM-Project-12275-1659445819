{
  "nbformat": 4,
  "nbformat_minor": 0,
  "metadata": {
    "colab": {
      "provenance": []
    },
    "kernelspec": {
      "name": "python3",
      "display_name": "Python 3"
    },
    "language_info": {
      "name": "python"
    }
  },
  "cells": [
    {
      "cell_type": "code",
      "execution_count": 1,
      "metadata": {
        "id": "oMfGxxLq0Rwk",
        "colab": {
          "base_uri": "https://localhost:8080/"
        },
        "outputId": "610625f6-bc7d-4fd3-dafd-ff2f4628af60"
      },
      "outputs": [
        {
          "output_type": "stream",
          "name": "stdout",
          "text": [
            "Done\n"
          ]
        }
      ],
      "source": [
        "from zipfile import ZipFile\n",
        "file_name = \"Flowers.zip\"\n",
        "\n",
        "with ZipFile(file_name,'r') as zip:\n",
        "  zip.extractall()\n",
        "  print('Done')"
      ]
    },
    {
      "cell_type": "code",
      "source": [
        "from tensorflow.keras.preprocessing.image import ImageDataGenerator"
      ],
      "metadata": {
        "id": "JU2ge5WvWz-Z"
      },
      "execution_count": 2,
      "outputs": []
    },
    {
      "cell_type": "code",
      "source": [
        "train_datagen=ImageDataGenerator(rescale=1./255,horizontal_flip=True,vertical_flip=True,zoom_range=0.2)"
      ],
      "metadata": {
        "id": "cEOx6jbGYz3M"
      },
      "execution_count": 3,
      "outputs": []
    },
    {
      "cell_type": "code",
      "source": [
        "test_datagen=ImageDataGenerator(rescale=1./255)"
      ],
      "metadata": {
        "id": "gfbvhjyQY7Zy"
      },
      "execution_count": 4,
      "outputs": []
    },
    {
      "cell_type": "code",
      "source": [
        "x_train=train_datagen.flow_from_directory(r\"/content/flowers\",target_size=(64,64),\n",
        "                                                            class_mode=\"categorical\",batch_size=24)"
      ],
      "metadata": {
        "colab": {
          "base_uri": "https://localhost:8080/"
        },
        "id": "fXCCWkqdZazz",
        "outputId": "a1dc79f0-e2d8-4590-c745-8ab59c08393c"
      },
      "execution_count": 5,
      "outputs": [
        {
          "output_type": "stream",
          "name": "stdout",
          "text": [
            "Found 4317 images belonging to 5 classes.\n"
          ]
        }
      ]
    },
    {
      "cell_type": "code",
      "source": [
        "x_test=test_datagen.flow_from_directory(r\"/content/flowers\",target_size=(64,64),\n",
        "                                                            class_mode=\"categorical\",batch_size=24)"
      ],
      "metadata": {
        "colab": {
          "base_uri": "https://localhost:8080/"
        },
        "id": "M-QPek4EZkO-",
        "outputId": "d2a176ad-7abc-4912-e25d-c729fa7d03b2"
      },
      "execution_count": 6,
      "outputs": [
        {
          "output_type": "stream",
          "name": "stdout",
          "text": [
            "Found 4317 images belonging to 5 classes.\n"
          ]
        }
      ]
    },
    {
      "cell_type": "code",
      "source": [
        "from tensorflow.keras.models import Sequential"
      ],
      "metadata": {
        "id": "IuxH1xZzZtth"
      },
      "execution_count": 7,
      "outputs": []
    },
    {
      "cell_type": "code",
      "source": [
        "from tensorflow.keras.layers import Convolution2D,MaxPooling2D,Flatten,Dense"
      ],
      "metadata": {
        "id": "te1LbPrCZxlV"
      },
      "execution_count": 8,
      "outputs": []
    },
    {
      "cell_type": "code",
      "source": [
        "model=Sequential()"
      ],
      "metadata": {
        "id": "_AwaJK6aZ2og"
      },
      "execution_count": 9,
      "outputs": []
    },
    {
      "cell_type": "code",
      "source": [
        "model.add(Convolution2D(32,(3,3),activation=\"relu\",input_shape=(64,64,3)))"
      ],
      "metadata": {
        "id": "utlTSs-UZ9zn"
      },
      "execution_count": 10,
      "outputs": []
    },
    {
      "cell_type": "code",
      "source": [
        "model.add(MaxPooling2D(pool_size=(2,2)))"
      ],
      "metadata": {
        "id": "6E3BwgGnaJvV"
      },
      "execution_count": 11,
      "outputs": []
    },
    {
      "cell_type": "code",
      "source": [
        "model.add(Flatten())"
      ],
      "metadata": {
        "id": "n83NBQdvaMWy"
      },
      "execution_count": 12,
      "outputs": []
    },
    {
      "cell_type": "code",
      "source": [
        "model.add(Dense(300,activation='relu'))"
      ],
      "metadata": {
        "id": "O9R6urIJaTnG"
      },
      "execution_count": 13,
      "outputs": []
    },
    {
      "cell_type": "code",
      "source": [
        "model.add(Dense(5,activation=\"softmax\"))"
      ],
      "metadata": {
        "id": "LAPNphH_aTj7"
      },
      "execution_count": 14,
      "outputs": []
    },
    {
      "cell_type": "code",
      "source": [
        "model.compile(loss=\"categorical_crossentropy\",metrics=[\"accuracy\"],optimizer='adam')"
      ],
      "metadata": {
        "id": "GDjeeGRLaThJ"
      },
      "execution_count": 15,
      "outputs": []
    },
    {
      "cell_type": "code",
      "source": [
        "len(x_train)"
      ],
      "metadata": {
        "colab": {
          "base_uri": "https://localhost:8080/"
        },
        "id": "chf0fgjjaS_Q",
        "outputId": "8d10efdb-de0f-41b7-ad51-c1db65fc75ac"
      },
      "execution_count": 16,
      "outputs": [
        {
          "output_type": "execute_result",
          "data": {
            "text/plain": [
              "180"
            ]
          },
          "metadata": {},
          "execution_count": 16
        }
      ]
    },
    {
      "cell_type": "code",
      "source": [
        "model.fit(x_train,epochs=5,validation_data=x_test,steps_per_epoch=len(x_train),validation_steps=len(x_test))"
      ],
      "metadata": {
        "colab": {
          "base_uri": "https://localhost:8080/"
        },
        "id": "-X_E23JeaS8A",
        "outputId": "c1992cb2-b0a3-4ce7-90be-055f0d4433dc"
      },
      "execution_count": 17,
      "outputs": [
        {
          "output_type": "stream",
          "name": "stdout",
          "text": [
            "Epoch 1/5\n",
            "180/180 [==============================] - 55s 303ms/step - loss: 1.3557 - accuracy: 0.4878 - val_loss: 1.0343 - val_accuracy: 0.6004\n",
            "Epoch 2/5\n",
            "180/180 [==============================] - 53s 296ms/step - loss: 1.0432 - accuracy: 0.5877 - val_loss: 1.0443 - val_accuracy: 0.6030\n",
            "Epoch 3/5\n",
            "180/180 [==============================] - 53s 297ms/step - loss: 0.9733 - accuracy: 0.6187 - val_loss: 1.0089 - val_accuracy: 0.6240\n",
            "Epoch 4/5\n",
            "180/180 [==============================] - 54s 297ms/step - loss: 0.9271 - accuracy: 0.6405 - val_loss: 0.8920 - val_accuracy: 0.6650\n",
            "Epoch 5/5\n",
            "180/180 [==============================] - 53s 295ms/step - loss: 0.8805 - accuracy: 0.6539 - val_loss: 0.8314 - val_accuracy: 0.6898\n"
          ]
        },
        {
          "output_type": "execute_result",
          "data": {
            "text/plain": [
              "<keras.callbacks.History at 0x7fbdccaf54d0>"
            ]
          },
          "metadata": {},
          "execution_count": 17
        }
      ]
    },
    {
      "cell_type": "code",
      "source": [
        "model.save(\"sunflower.h5\")"
      ],
      "metadata": {
        "id": "C8pfYU_7aS48"
      },
      "execution_count": 18,
      "outputs": []
    },
    {
      "cell_type": "code",
      "source": [
        "from tensorflow.keras.models import load_model\n",
        "from tensorflow.keras.preprocessing import image \n",
        "import numpy as np"
      ],
      "metadata": {
        "id": "mZ69JMOAaSs9"
      },
      "execution_count": 19,
      "outputs": []
    },
    {
      "cell_type": "code",
      "source": [
        "model=load_model(\"/content/sunflower.h5\")"
      ],
      "metadata": {
        "id": "MnIsvvKfaSef"
      },
      "execution_count": 20,
      "outputs": []
    },
    {
      "cell_type": "code",
      "source": [
        "img=image.load_img(\"/content/flowers/sunflower/10386540106_1431e73086_m.jpg\",target_size=(64,64))"
      ],
      "metadata": {
        "id": "yRRvYoGgb3NL"
      },
      "execution_count": 21,
      "outputs": []
    },
    {
      "cell_type": "code",
      "source": [
        "img"
      ],
      "metadata": {
        "colab": {
          "base_uri": "https://localhost:8080/",
          "height": 81
        },
        "id": "MJqN2_iJb3JX",
        "outputId": "0cbc8319-e9f1-49ce-9c3f-88419386082c"
      },
      "execution_count": 22,
      "outputs": [
        {
          "output_type": "execute_result",
          "data": {
            "text/plain": [
              "<PIL.Image.Image image mode=RGB size=64x64 at 0x7FBDC4472310>"
            ],
            "image/png": "[encoded data removed]"
          },
          "metadata": {},
          "execution_count": 22
        }
      ]
    },
    {
      "cell_type": "code",
      "source": [
        "x=image.img_to_array(img)"
      ],
      "metadata": {
        "id": "-6yQCpfpb3D6"
      },
      "execution_count": 23,
      "outputs": []
    },
    {
      "cell_type": "code",
      "source": [
        "x"
      ],
      "metadata": {
        "colab": {
          "base_uri": "https://localhost:8080/"
        },
        "id": "lUa42xjdb29q",
        "outputId": "2c2cb89c-9d7a-4c21-c0f3-3d250ef966c8"
      },
      "execution_count": 24,
      "outputs": [
        {
          "output_type": "execute_result",
          "data": {
            "text/plain": [
              "array([[[ 60., 122., 235.],\n",
              "        [ 66., 115., 217.],\n",
              "        [ 61., 116., 209.],\n",
              "        ...,\n",
              "        [ 37.,  99., 198.],\n",
              "        [ 38., 101., 196.],\n",
              "        [ 44., 109., 211.]],\n",
              "\n",
              "       [[ 69., 128., 198.],\n",
              "        [ 67., 121., 181.],\n",
              "        [ 68., 119., 182.],\n",
              "        ...,\n",
              "        [ 56., 106., 169.],\n",
              "        [ 59., 107., 169.],\n",
              "        [ 59., 118., 194.]],\n",
              "\n",
              "       [[ 72., 121., 198.],\n",
              "        [ 70., 118., 184.],\n",
              "        [ 66., 119., 187.],\n",
              "        ...,\n",
              "        [ 56., 108., 168.],\n",
              "        [ 61., 108., 176.],\n",
              "        [ 62., 118., 201.]],\n",
              "\n",
              "       ...,\n",
              "\n",
              "       [[ 71.,  85.,  59.],\n",
              "        [ 69.,  90.,  51.],\n",
              "        [ 57.,  71.,  48.],\n",
              "        ...,\n",
              "        [ 25.,  12.,   6.],\n",
              "        [ 37.,  23.,  14.],\n",
              "        [ 37.,  18.,  12.]],\n",
              "\n",
              "       [[ 36.,  49.,  31.],\n",
              "        [ 45.,  65.,  28.],\n",
              "        [ 62.,  79.,  43.],\n",
              "        ...,\n",
              "        [ 62.,  45.,  37.],\n",
              "        [ 66.,  58.,  45.],\n",
              "        [ 10.,   0.,   0.]],\n",
              "\n",
              "       [[ 34.,  42.,  27.],\n",
              "        [ 37.,  41.,  14.],\n",
              "        [ 43.,  49.,  21.],\n",
              "        ...,\n",
              "        [ 39.,  26.,   9.],\n",
              "        [ 27.,  24.,   7.],\n",
              "        [ 24.,  17.,  11.]]], dtype=float32)"
            ]
          },
          "metadata": {},
          "execution_count": 24
        }
      ]
    },
    {
      "cell_type": "code",
      "source": [
        "x.ndim"
      ],
      "metadata": {
        "colab": {
          "base_uri": "https://localhost:8080/"
        },
        "id": "fNp4HHdcb26S",
        "outputId": "3c8cee91-f386-47ca-c40e-a94c9ad1d0ad"
      },
      "execution_count": 25,
      "outputs": [
        {
          "output_type": "execute_result",
          "data": {
            "text/plain": [
              "3"
            ]
          },
          "metadata": {},
          "execution_count": 25
        }
      ]
    },
    {
      "cell_type": "code",
      "source": [
        "x=np.expand_dims(x,axis=0)"
      ],
      "metadata": {
        "id": "EZX7zfmbb22x"
      },
      "execution_count": 26,
      "outputs": []
    },
    {
      "cell_type": "code",
      "source": [
        "x.ndim"
      ],
      "metadata": {
        "colab": {
          "base_uri": "https://localhost:8080/"
        },
        "id": "bOjZj8Pjb2zC",
        "outputId": "c890b425-2ce1-4ed0-8baa-de506db69d3e"
      },
      "execution_count": 27,
      "outputs": [
        {
          "output_type": "execute_result",
          "data": {
            "text/plain": [
              "4"
            ]
          },
          "metadata": {},
          "execution_count": 27
        }
      ]
    },
    {
      "cell_type": "code",
      "source": [
        "pred=model.predict(x)\n"
      ],
      "metadata": {
        "id": "DnmTUKoCb2vp"
      },
      "execution_count": 28,
      "outputs": []
    },
    {
      "cell_type": "code",
      "source": [
        "pred"
      ],
      "metadata": {
        "colab": {
          "base_uri": "https://localhost:8080/"
        },
        "id": "M8jqG8xTb2sd",
        "outputId": "1c03d490-d46d-438f-ab57-d859efd9bbec"
      },
      "execution_count": 29,
      "outputs": [
        {
          "output_type": "execute_result",
          "data": {
            "text/plain": [
              "array([[0., 0., 0., 1., 0.]], dtype=float32)"
            ]
          },
          "metadata": {},
          "execution_count": 29
        }
      ]
    },
    {
      "cell_type": "code",
      "source": [
        "labels=[\"daisy\",\"dandelion\",\"rose\",\"sunflower\",\"tulip\"]"
      ],
      "metadata": {
        "id": "Tc7p1w3pb2hh"
      },
      "execution_count": 30,
      "outputs": []
    },
    {
      "cell_type": "code",
      "source": [
        "np.argmax(pred)"
      ],
      "metadata": {
        "colab": {
          "base_uri": "https://localhost:8080/"
        },
        "id": "2I0zZKnQewnq",
        "outputId": "e6f9c15c-0dc2-48a9-9857-c9db34ec1059"
      },
      "execution_count": 31,
      "outputs": [
        {
          "output_type": "execute_result",
          "data": {
            "text/plain": [
              "3"
            ]
          },
          "metadata": {},
          "execution_count": 31
        }
      ]
    },
    {
      "cell_type": "code",
      "source": [
        "labels[2]"
      ],
      "metadata": {
        "colab": {
          "base_uri": "https://localhost:8080/",
          "height": 35
        },
        "id": "osLB4JzTewk9",
        "outputId": "4130ac5c-87a7-4003-b589-daad4229b0aa"
      },
      "execution_count": 32,
      "outputs": [
        {
          "output_type": "execute_result",
          "data": {
            "text/plain": [
              "'rose'"
            ],
            "application/vnd.google.colaboratory.intrinsic+json": {
              "type": "string"
            }
          },
          "metadata": {},
          "execution_count": 32
        }
      ]
    },
    {
      "cell_type": "code",
      "source": [
        "labels[np.argmax(pred)]"
      ],
      "metadata": {
        "colab": {
          "base_uri": "https://localhost:8080/",
          "height": 35
        },
        "id": "_DVeZaXtewFQ",
        "outputId": "ad739a3f-2031-4cd1-92cf-7f340ae075fe"
      },
      "execution_count": 33,
      "outputs": [
        {
          "output_type": "execute_result",
          "data": {
            "text/plain": [
              "'sunflower'"
            ],
            "application/vnd.google.colaboratory.intrinsic+json": {
              "type": "string"
            }
          },
          "metadata": {},
          "execution_count": 33
        }
      ]
    }
  ]
}